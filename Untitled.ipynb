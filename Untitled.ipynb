{
 "cells": [
  {
   "cell_type": "code",
   "execution_count": 1,
   "id": "408bf637-29a9-4936-975c-3a646df54c23",
   "metadata": {},
   "outputs": [],
   "source": [
    "import cv2"
   ]
  },
  {
   "cell_type": "code",
   "execution_count": 2,
   "id": "4647c3eb-1d55-4240-99b2-7a842bc42ed5",
   "metadata": {},
   "outputs": [],
   "source": [
    "import numpy as np\n",
    "import matplotlib.pyplot as plt"
   ]
  },
  {
   "cell_type": "code",
   "execution_count": 3,
   "id": "7e5a8520-51b0-40d0-96bf-c05995a1dccd",
   "metadata": {},
   "outputs": [],
   "source": [
    "def Rohini_Patil_translation(a, b, img):\n",
    "    if len(img.shape) == 2:  \n",
    "        height, width = img.shape\n",
    "    else: \n",
    "        height, width, channels = img.shape\n",
    "    \n",
    "    T = np.float32([[1, 0, a], [0, 1, b]])\n",
    "    img_translation = cv2.warpAffine(img, T, (width, height))\n",
    "    plt.imshow(cv2.cvtColor(img_translation, cv2.COLOR_BGR2RGB) if len(img.shape) == 3 else img, cmap=\"gray\")\n",
    "    plt.title('Translation')\n",
    "    plt.show()\n",
    "    return img_translation"
   ]
  },
  {
   "cell_type": "code",
   "execution_count": 4,
   "id": "5691b40a-6260-4b60-adf9-0f3ee299ec83",
   "metadata": {},
   "outputs": [],
   "source": [
    "def Rohini_Patil_rotation(angle, scale, img):\n",
    "    if len(img.shape) == 2:  \n",
    "        height, width = img.shape\n",
    "    else: \n",
    "        height, width, channels = img.shape\n",
    "    \n",
    "    center = (width / 2, height / 2)\n",
    "    M = cv2.getRotationMatrix2D(center, angle, scale)\n",
    "    img_rotation = cv2.warpAffine(img, M, (width, height))\n",
    "    plt.imshow(cv2.cvtColor(img_rotation, cv2.COLOR_BGR2RGB) if len(img.shape) == 3 else img, cmap=\"gray\")\n",
    "    plt.title('Rotation')\n",
    "    plt.show()\n",
    "    return img_rotation\n"
   ]
  },
  {
   "cell_type": "code",
   "execution_count": 5,
   "id": "e623abe9-f93b-4855-9887-ac49ca37040d",
   "metadata": {},
   "outputs": [],
   "source": [
    "def Rohini_Patil_scaling(sx, sy, img):\n",
    "    img_resized = cv2.resize(img, None, fx=sx, fy=sy)\n",
    "    plt.imshow(cv2.cvtColor(img_resized, cv2.COLOR_BGR2RGB) if len(img.shape) == 3 else img, cmap=\"gray\")\n",
    "    plt.title('Scaling')\n",
    "    plt.show()\n",
    "    return img_resized"
   ]
  },
  {
   "cell_type": "code",
   "execution_count": 6,
   "id": "b8327af4-989b-4177-b30f-1a4c05f64e21",
   "metadata": {},
   "outputs": [],
   "source": [
    "def Rohini_Patil_reflection(axis, img):\n",
    "    if axis == 0:  \n",
    "        img_reflection = cv2.flip(img, 0)\n",
    "    elif axis == 1: \n",
    "        img_reflection = cv2.flip(img, 1)\n",
    "    else:\n",
    "        print(\"Invalid axis for reflection\")\n",
    "        return img\n",
    "    \n",
    "    plt.imshow(cv2.cvtColor(img_reflection, cv2.COLOR_BGR2RGB) if len(img.shape) == 3 else img, cmap=\"gray\")\n",
    "    plt.title('Reflection')\n",
    "    plt.show()\n",
    "    return img_reflection"
   ]
  },
  {
   "cell_type": "code",
   "execution_count": 7,
   "id": "71d45f56-104e-4e34-8a4a-6e0ab92c068c",
   "metadata": {},
   "outputs": [],
   "source": [
    "def Rohini_Patil_shearing(axis, img):\n",
    "    if len(img.shape) == 2:  \n",
    "        height, width = img.shape\n",
    "    else: \n",
    "        height, width, channels = img.shape\n",
    "\n",
    "    if axis == 0: \n",
    "        M = np.float32([[1, 0.5, 0], [0, 1, 0]])\n",
    "    elif axis == 1:  \n",
    "        M = np.float32([[1, 0, 0], [0.5, 1, 0]])\n",
    "    else:\n",
    "        print(\"Invalid axis for shearing\")\n",
    "        return img\n",
    "    \n",
    "    img_sheared = cv2.warpAffine(img, M, (width, height))\n",
    "    plt.imshow(cv2.cvtColor(img_sheared, cv2.COLOR_BGR2RGB) if len(img.shape) == 3 else img, cmap=\"gray\")\n",
    "    plt.title('Shearing')\n",
    "    plt.show()\n",
    "    return img_sheared\n"
   ]
  },
  {
   "cell_type": "code",
   "execution_count": 8,
   "id": "f89aece9-7365-473d-b7e9-a3d2bd064288",
   "metadata": {},
   "outputs": [],
   "source": [
    "def switch_1(ch, img_path, color_choice):\n",
    "    if color_choice == 1:\n",
    "        img = cv2.imread(img_path, cv2.IMREAD_GRAYSCALE)\n",
    "    elif color_choice == 2:\n",
    "        img = cv2.imread(img_path, cv2.IMREAD_COLOR)\n",
    "    else:\n",
    "        print(\"Invalid choice for color. Please enter 1 for grayscale or 2 for color.\")\n",
    "        return\n",
    "\n",
    "    if img is None:\n",
    "        print(\"Error: Image not loaded. Check the path and file.\")\n",
    "        return\n",
    "\n",
    "    if ch == 1:\n",
    "        tx = int(input(\"Enter TX: \"))\n",
    "        ty = int(input(\"Enter TY: \"))\n",
    "        img = Rohini_Patil_translation(tx, ty, img)\n",
    "    elif ch == 2:\n",
    "        angle = int(input(\"Enter angle: \"))\n",
    "        scale = float(input(\"Enter Scaling Factor: \"))\n",
    "        img = Rohini_Patil_rotation(angle, scale, img)\n",
    "    elif ch == 3:\n",
    "        sx = float(input(\"Enter Sx: \"))\n",
    "        sy = float(input(\"Enter Sy: \"))\n",
    "        img = Rohini_Patil_scaling(sx, sy, img)\n",
    "    elif ch == 4:\n",
    "        axis = int(input(\"Enter 0 for x and 1 for y: \"))\n",
    "        img = Rohini_Patil_reflection(axis, img)\n",
    "    elif ch == 5:\n",
    "        axis = int(input(\"Enter 0 for shx and 1 for shy: \"))\n",
    "        img = Rohini_Patil_shearing(axis, img)\n",
    "    else:\n",
    "        print(\"Wrong choice\")\n",
    "        return"
   ]
  },
  {
   "cell_type": "code",
   "execution_count": 1,
   "id": "dd937d26-5913-4866-8c63-5ebb264c582a",
   "metadata": {},
   "outputs": [
    {
     "name": "stdout",
     "output_type": "stream",
     "text": [
      "Enter Image Path: albert-einstein.jpg\n",
      "Enter 1 for grayscale or 2 for color: 1\n",
      "1. Translation\n",
      "2. Rotation\n",
      "3. Scaling\n",
      "4. Reflection\n",
      "5. Shearing\n",
      "Enter your choice: 2\n"
     ]
    },
    {
     "ename": "NameError",
     "evalue": "name 'switch_1' is not defined",
     "output_type": "error",
     "traceback": [
      "\u001b[1;31m---------------------------------------------------------------------------\u001b[0m",
      "\u001b[1;31mNameError\u001b[0m                                 Traceback (most recent call last)",
      "Cell \u001b[1;32mIn[1], line 9\u001b[0m\n\u001b[0;32m      6\u001b[0m     switch_1(choice, src_img, color_choice)\n\u001b[0;32m      8\u001b[0m \u001b[38;5;28;01mif\u001b[39;00m \u001b[38;5;18m__name__\u001b[39m \u001b[38;5;241m==\u001b[39m \u001b[38;5;124m\"\u001b[39m\u001b[38;5;124m__main__\u001b[39m\u001b[38;5;124m\"\u001b[39m:\n\u001b[1;32m----> 9\u001b[0m     Rohini_Patil_main()\n",
      "Cell \u001b[1;32mIn[1], line 6\u001b[0m, in \u001b[0;36mRohini_Patil_main\u001b[1;34m()\u001b[0m\n\u001b[0;32m      4\u001b[0m \u001b[38;5;28mprint\u001b[39m(\u001b[38;5;124m\"\u001b[39m\u001b[38;5;124m1. Translation\u001b[39m\u001b[38;5;130;01m\\n\u001b[39;00m\u001b[38;5;124m2. Rotation\u001b[39m\u001b[38;5;130;01m\\n\u001b[39;00m\u001b[38;5;124m3. Scaling\u001b[39m\u001b[38;5;130;01m\\n\u001b[39;00m\u001b[38;5;124m4. Reflection\u001b[39m\u001b[38;5;130;01m\\n\u001b[39;00m\u001b[38;5;124m5. Shearing\u001b[39m\u001b[38;5;124m\"\u001b[39m)\n\u001b[0;32m      5\u001b[0m choice \u001b[38;5;241m=\u001b[39m \u001b[38;5;28mint\u001b[39m(\u001b[38;5;28minput\u001b[39m(\u001b[38;5;124m\"\u001b[39m\u001b[38;5;124mEnter your choice: \u001b[39m\u001b[38;5;124m\"\u001b[39m))\n\u001b[1;32m----> 6\u001b[0m switch_1(choice, src_img, color_choice)\n",
      "\u001b[1;31mNameError\u001b[0m: name 'switch_1' is not defined"
     ]
    }
   ],
   "source": [
    "def Rohini_Patil_main():\n",
    "    src_img = input(\"Enter Image Path: \")\n",
    "    color_choice = int(input(\"Enter 1 for grayscale or 2 for color: \"))\n",
    "    print(\"1. Translation\\n2. Rotation\\n3. Scaling\\n4. Reflection\\n5. Shearing\")\n",
    "    choice = int(input(\"Enter your choice: \"))\n",
    "    switch_1(choice, src_img, color_choice)\n",
    "\n",
    "if __name__ == \"__main__\":\n",
    "    Rohini_Patil_main()"
   ]
  },
  {
   "cell_type": "code",
   "execution_count": null,
   "id": "157d3b97-c929-45e5-a45b-4067a1dff092",
   "metadata": {},
   "outputs": [],
   "source": []
  }
 ],
 "metadata": {
  "kernelspec": {
   "display_name": "Python 3 (ipykernel)",
   "language": "python",
   "name": "python3"
  },
  "language_info": {
   "codemirror_mode": {
    "name": "ipython",
    "version": 3
   },
   "file_extension": ".py",
   "mimetype": "text/x-python",
   "name": "python",
   "nbconvert_exporter": "python",
   "pygments_lexer": "ipython3",
   "version": "3.11.5"
  }
 },
 "nbformat": 4,
 "nbformat_minor": 5
}
