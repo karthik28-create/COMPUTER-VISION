{
 "cells": [
  {
   "cell_type": "code",
   "execution_count": 14,
   "id": "73558698",
   "metadata": {},
   "outputs": [
    {
     "ename": "ModuleNotFoundError",
     "evalue": "No module named 'cv2'",
     "output_type": "error",
     "traceback": [
      "\u001b[1;31m---------------------------------------------------------------------------\u001b[0m",
      "\u001b[1;31mModuleNotFoundError\u001b[0m                       Traceback (most recent call last)",
      "Cell \u001b[1;32mIn[14], line 3\u001b[0m\n\u001b[0;32m      1\u001b[0m \u001b[38;5;28;01mimport\u001b[39;00m \u001b[38;5;21;01mnumpy\u001b[39;00m \u001b[38;5;28;01mas\u001b[39;00m \u001b[38;5;21;01mnp\u001b[39;00m\n\u001b[0;32m      2\u001b[0m \u001b[38;5;28;01mimport\u001b[39;00m \u001b[38;5;21;01mpandas\u001b[39;00m \u001b[38;5;28;01mas\u001b[39;00m \u001b[38;5;21;01mpd\u001b[39;00m\n\u001b[1;32m----> 3\u001b[0m \u001b[38;5;28;01mimport\u001b[39;00m \u001b[38;5;21;01mcv2\u001b[39;00m\n\u001b[0;32m      4\u001b[0m \u001b[38;5;28;01mimport\u001b[39;00m \u001b[38;5;21;01mmatplotlib\u001b[39;00m\u001b[38;5;21;01m.\u001b[39;00m\u001b[38;5;21;01mpyplot\u001b[39;00m \u001b[38;5;28;01mas\u001b[39;00m \u001b[38;5;21;01mplt\u001b[39;00m\n",
      "\u001b[1;31mModuleNotFoundError\u001b[0m: No module named 'cv2'"
     ]
    }
   ],
   "source": [
    "import numpy as np\n",
    "import pandas as pd\n",
    "import cv2\n",
    "import matplotlib.pyplot as plt"
   ]
  },
  {
   "cell_type": "code",
   "execution_count": 3,
   "id": "79927ca9",
   "metadata": {},
   "outputs": [
    {
     "ename": "SyntaxError",
     "evalue": "invalid decimal literal (1904091087.py, line 2)",
     "output_type": "error",
     "traceback": [
      "\u001b[1;36m  Cell \u001b[1;32mIn[3], line 2\u001b[1;36m\u001b[0m\n\u001b[1;33m    T = np.float32([[1,0.tx],[0,1,ty]])\u001b[0m\n\u001b[1;37m                        ^\u001b[0m\n\u001b[1;31mSyntaxError\u001b[0m\u001b[1;31m:\u001b[0m invalid decimal literal\n"
     ]
    }
   ],
   "source": [
    "def translation(tx,ty,img_src):\n",
    "    T = np.float32([[1,0.tx],[0,1,ty]])\n",
    "    h,w = img.src.shape()\n",
    "    img_dst=cv2.warpAffine(img_src,T,(w,h))\n",
    "    return img_dst\n"
   ]
  },
  {
   "cell_type": "code",
   "execution_count": 4,
   "id": "b4f799bf",
   "metadata": {},
   "outputs": [
    {
     "ename": "NameError",
     "evalue": "name 'translation' is not defined",
     "output_type": "error",
     "traceback": [
      "\u001b[1;31m---------------------------------------------------------------------------\u001b[0m",
      "\u001b[1;31mNameError\u001b[0m                                 Traceback (most recent call last)",
      "Cell \u001b[1;32mIn[4], line 1\u001b[0m\n\u001b[1;32m----> 1\u001b[0m T_img\u001b[38;5;241m=\u001b[39mtranslation(\u001b[38;5;241m200\u001b[39m,\u001b[38;5;241m300\u001b[39m,img_src)\n\u001b[0;32m      2\u001b[0m plt\u001b[38;5;241m.\u001b[39mimshow(T_img)\n",
      "\u001b[1;31mNameError\u001b[0m: name 'translation' is not defined"
     ]
    }
   ],
   "source": [
    "T_img=translation(200,300,img_src)\n",
    "plt.imshow(T_img)"
   ]
  },
  {
   "cell_type": "code",
   "execution_count": 5,
   "id": "e0251293",
   "metadata": {},
   "outputs": [],
   "source": [
    "## rotation"
   ]
  },
  {
   "cell_type": "code",
   "execution_count": 7,
   "id": "aedd4714",
   "metadata": {},
   "outputs": [
    {
     "ename": "SyntaxError",
     "evalue": "expected ':' (1381157018.py, line 1)",
     "output_type": "error",
     "traceback": [
      "\u001b[1;36m  Cell \u001b[1;32mIn[7], line 1\u001b[1;36m\u001b[0m\n\u001b[1;33m    def Rotation(an,img_src,sf)\u001b[0m\n\u001b[1;37m                               ^\u001b[0m\n\u001b[1;31mSyntaxError\u001b[0m\u001b[1;31m:\u001b[0m expected ':'\n"
     ]
    }
   ],
   "source": [
    "def Rotation(an,img_src,sf)\n",
    "    h,w = img.src.shape()\n",
    "    cr=(w//2,h//2)\n",
    "    RM=cv2.getRotationMatrix2D(cr,an,1)\n",
    "    img_dst=cv2.warpAffine(img_src,T,(w,h))\n",
    "    return img_dst"
   ]
  },
  {
   "cell_type": "code",
   "execution_count": 8,
   "id": "ef828942",
   "metadata": {},
   "outputs": [
    {
     "ename": "NameError",
     "evalue": "name 'Rotation' is not defined",
     "output_type": "error",
     "traceback": [
      "\u001b[1;31m---------------------------------------------------------------------------\u001b[0m",
      "\u001b[1;31mNameError\u001b[0m                                 Traceback (most recent call last)",
      "Cell \u001b[1;32mIn[8], line 1\u001b[0m\n\u001b[1;32m----> 1\u001b[0m Rotation(\u001b[38;5;241m-\u001b[39m\u001b[38;5;241m60\u001b[39m,img_src,\u001b[38;5;241m0.6\u001b[39m)\n\u001b[0;32m      2\u001b[0m plt\u001b[38;5;241m.\u001b[39mimshow()\n",
      "\u001b[1;31mNameError\u001b[0m: name 'Rotation' is not defined"
     ]
    }
   ],
   "source": [
    "Rotation(-60,img_src,0.6)\n",
    "plt.imshow()"
   ]
  },
  {
   "cell_type": "code",
   "execution_count": 9,
   "id": "436fc576",
   "metadata": {},
   "outputs": [
    {
     "ename": "IndentationError",
     "evalue": "unexpected indent (4156761466.py, line 4)",
     "output_type": "error",
     "traceback": [
      "\u001b[1;36m  Cell \u001b[1;32mIn[9], line 4\u001b[1;36m\u001b[0m\n\u001b[1;33m    h,w = img.src.shape()\u001b[0m\n\u001b[1;37m    ^\u001b[0m\n\u001b[1;31mIndentationError\u001b[0m\u001b[1;31m:\u001b[0m unexpected indent\n"
     ]
    }
   ],
   "source": [
    "sx=2\n",
    "sy=2.5\n",
    "T = np.float32([[sx,0.0],[sy,0,0]])\n",
    "    h,w = img.src.shape()\n",
    "    img_dst=cv2.warpAffine(img_src,S,(w,h))\n",
    "    plt.imshow(img_dst)"
   ]
  },
  {
   "cell_type": "code",
   "execution_count": 10,
   "id": "1c2dbfaf",
   "metadata": {},
   "outputs": [],
   "source": [
    "##reflection x axis"
   ]
  },
  {
   "cell_type": "code",
   "execution_count": 11,
   "id": "174344d4",
   "metadata": {},
   "outputs": [
    {
     "ename": "IndentationError",
     "evalue": "unexpected indent (4026500973.py, line 3)",
     "output_type": "error",
     "traceback": [
      "\u001b[1;36m  Cell \u001b[1;32mIn[11], line 3\u001b[1;36m\u001b[0m\n\u001b[1;33m    img_dst=cv2.warpAffine(img_src,S,(w,h))\u001b[0m\n\u001b[1;37m    ^\u001b[0m\n\u001b[1;31mIndentationError\u001b[0m\u001b[1;31m:\u001b[0m unexpected indent\n"
     ]
    }
   ],
   "source": [
    "Rx=np.float32([[1,0,0],[0,-1,h]]) ## w=0 for x axis\n",
    "h,w = img.src.shape()\n",
    "    img_dst=cv2.warpAffine(img_src,S,(w,h))\n",
    "    plt.imshow(img_dst)"
   ]
  },
  {
   "cell_type": "code",
   "execution_count": 12,
   "id": "199fcb49",
   "metadata": {},
   "outputs": [
    {
     "ename": "IndentationError",
     "evalue": "unexpected indent (1496549330.py, line 3)",
     "output_type": "error",
     "traceback": [
      "\u001b[1;36m  Cell \u001b[1;32mIn[12], line 3\u001b[1;36m\u001b[0m\n\u001b[1;33m    img_dst=cv2.warpAffine(img_src,S,(w,h))\u001b[0m\n\u001b[1;37m    ^\u001b[0m\n\u001b[1;31mIndentationError\u001b[0m\u001b[1;31m:\u001b[0m unexpected indent\n"
     ]
    }
   ],
   "source": [
    "Ry=np.float32([[1,0,w],[0,-1,0]]) ## w=0 for x axis\n",
    "h,w = img.src.shape()\n",
    "    img_dst=cv2.warpAffine(img_src,S,(w,h))\n",
    "    plt.imshow(img_dst)"
   ]
  },
  {
   "cell_type": "code",
   "execution_count": 13,
   "id": "e372b4b3",
   "metadata": {},
   "outputs": [],
   "source": [
    "##shearing x axis"
   ]
  },
  {
   "cell_type": "code",
   "execution_count": null,
   "id": "1a29a331",
   "metadata": {},
   "outputs": [],
   "source": [
    "shx=0.2\n",
    "SHx=np.float32([[1,shx,0],[1,0,0]]) ## w=0 for x axis\n",
    "h,w = img.src.shape()\n",
    "    img_dst=cv2.warpAffine(img_src,SHx,(w,h))\n",
    "    plt.imshow(img_dst)\n",
    "    \n",
    "shx=0.2\n",
    "SHx=np.float32([[1,shx,0],[1,0,0]]) ## w=0 for x axis\n",
    "h,w = img.src.shape()\n",
    "    img_dst=cv2.warpAffine(img_src,SHx,(w,h))\n",
    "    plt.imshow(img_dst)\n",
    "        "
   ]
  }
 ],
 "metadata": {
  "kernelspec": {
   "display_name": "Python 3 (ipykernel)",
   "language": "python",
   "name": "python3"
  },
  "language_info": {
   "codemirror_mode": {
    "name": "ipython",
    "version": 3
   },
   "file_extension": ".py",
   "mimetype": "text/x-python",
   "name": "python",
   "nbconvert_exporter": "python",
   "pygments_lexer": "ipython3",
   "version": "3.11.5"
  }
 },
 "nbformat": 4,
 "nbformat_minor": 5
}
