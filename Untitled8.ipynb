{
 "cells": [
  {
   "cell_type": "code",
   "execution_count": 3,
   "id": "0ce54a5a",
   "metadata": {},
   "outputs": [
    {
     "data": {
      "text/plain": [
       "True"
      ]
     },
     "execution_count": 3,
     "metadata": {},
     "output_type": "execute_result"
    }
   ],
   "source": [
    "import cv2\n",
    "import numpy as np\n",
    "\n",
    "# Load image\n",
    "image = cv2.imread('tulips.jpg')  # Replace with your image path\n",
    "\n",
    "# Step 1: Convert the image to grayscale\n",
    "gray_image = cv2.cvtColor(image, cv2.COLOR_BGR2GRAY)\n",
    "\n",
    "# Step 2: Apply GaussianBlur to reduce noise (optional but recommended)\n",
    "blurred_image = cv2.GaussianBlur(gray_image, (5, 5), 1.5)\n",
    "\n",
    "# Step 3: Perform Canny edge detection\n",
    "lower_threshold = 50  # Lower threshold for edge detection\n",
    "upper_threshold = 150  # Upper threshold for edge detection\n",
    "edges = cv2.Canny(blurred_image, lower_threshold, upper_threshold)\n",
    "\n",
    "# Step 4: Display the original and edge-detected images\n",
    "cv2.imshow('Original Image', image)\n",
    "cv2.imshow('Edge Detected Image', edges)\n",
    "\n",
    "# Wait until a key is pressed and close the windows\n",
    "cv2.waitKey(0)\n",
    "cv2.destroyAllWindows()\n",
    "\n",
    "# Optionally, save the output image with edges\n",
    "cv2.imwrite('edges_output.jpg', edges)\n"
   ]
  },
  {
   "cell_type": "code",
   "execution_count": null,
   "id": "846b749c",
   "metadata": {},
   "outputs": [],
   "source": []
  }
 ],
 "metadata": {
  "kernelspec": {
   "display_name": "Python (mynewenv)",
   "language": "python",
   "name": "myenv"
  },
  "language_info": {
   "codemirror_mode": {
    "name": "ipython",
    "version": 3
   },
   "file_extension": ".py",
   "mimetype": "text/x-python",
   "name": "python",
   "nbconvert_exporter": "python",
   "pygments_lexer": "ipython3",
   "version": "3.12.2"
  }
 },
 "nbformat": 4,
 "nbformat_minor": 5
}
