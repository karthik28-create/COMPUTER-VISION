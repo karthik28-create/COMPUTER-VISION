{
 "cells": [
  {
   "cell_type": "code",
   "execution_count": 1,
   "id": "e452e654",
   "metadata": {},
   "outputs": [],
   "source": [
    "import cv2"
   ]
  },
  {
   "cell_type": "code",
   "execution_count": 2,
   "id": "9276439a",
   "metadata": {},
   "outputs": [],
   "source": [
    "tracker = cv2.TrackerMIL_create()"
   ]
  },
  {
   "cell_type": "code",
   "execution_count": 3,
   "id": "b77ceb99",
   "metadata": {},
   "outputs": [],
   "source": [
    "v = cv2.VideoCapture(r'mot.mp4') "
   ]
  },
  {
   "cell_type": "code",
   "execution_count": 4,
   "id": "c49016da",
   "metadata": {},
   "outputs": [],
   "source": [
    "ret, frame = v.read()\n",
    "#frame = imutils.resize(frame,width=600)\n",
    "cv2.imshow('Frame',frame)\n",
    "bb = cv2.selectROI('Frame',frame)\n",
    "tracker.init(frame,bb)"
   ]
  },
  {
   "cell_type": "code",
   "execution_count": 5,
   "id": "f2d40dea",
   "metadata": {},
   "outputs": [],
   "source": [
    "while True:\n",
    "    ret, frame = v.read()\n",
    "    if not ret:\n",
    "        break\n",
    "    #frame = imutils.resize(frame,width=600)\n",
    "    (success,box) = tracker.update(frame)\n",
    "    if success:\n",
    "        (x,y,w,h) = [int(a) for a in box]\n",
    "        cv2.rectangle(frame,(x,y),(x+w,y+h),(100,255,0),2)\n",
    "    cv2.imshow('Frame',frame)\n",
    "    key = cv2.waitKey(5) & 0xFF\n",
    "    if key == ord('q'):\n",
    "        break\n",
    "v.release()\n",
    "cv2.destroyAllWindows()"
   ]
  },
  {
   "cell_type": "markdown",
   "id": "dcdf0804",
   "metadata": {},
   "source": [
    "# Multiple Object"
   ]
  },
  {
   "cell_type": "code",
   "execution_count": 6,
   "id": "4a20568c",
   "metadata": {},
   "outputs": [],
   "source": [
    "trackers = []"
   ]
  },
  {
   "cell_type": "code",
   "execution_count": 7,
   "id": "4be22d78",
   "metadata": {},
   "outputs": [],
   "source": [
    "v = cv2.VideoCapture(r'mot.mp4')"
   ]
  },
  {
   "cell_type": "code",
   "execution_count": 8,
   "id": "555c186d",
   "metadata": {},
   "outputs": [],
   "source": [
    "ret, frame = v.read()\n",
    "#frame = imutils.resize(frame,width=600)\n",
    "k=3\n",
    "for i in range(k):\n",
    "    cv2.imshow('Frame',frame)\n",
    "    bb = cv2.selectROI('Frame',frame)\n",
    "    tracker = cv2.TrackerMIL_create()\n",
    "    tracker.init(frame,bb)\n",
    "    trackers.append(tracker)"
   ]
  },
  {
   "cell_type": "code",
   "execution_count": 9,
   "id": "cd9d15bd",
   "metadata": {},
   "outputs": [],
   "source": [
    "while True:\n",
    "    ret, frame = v.read()\n",
    "    if not ret:\n",
    "        break\n",
    "    #frame = imutils.resize(frame,width=600)\n",
    "    for tracker in trackers:\n",
    "        success,box = tracker.update(frame)\n",
    "        if success:\n",
    "            (x,y,w,h) = [int(a) for a in box]\n",
    "            cv2.rectangle(frame,(x,y),(x+w,y+h),(100,255,0),2)\n",
    "        cv2.imshow('Frame',frame)\n",
    "    key = cv2.waitKey(5) & 0xFF\n",
    "    if key == ord('q'):\n",
    "        break\n",
    "v.release()\n",
    "cv2.destroyAllWindows()"
   ]
  },
  {
   "cell_type": "code",
   "execution_count": null,
   "id": "b1eda38c",
   "metadata": {},
   "outputs": [],
   "source": []
  },
  {
   "cell_type": "code",
   "execution_count": null,
   "id": "5dc50687",
   "metadata": {},
   "outputs": [],
   "source": []
  },
  {
   "cell_type": "code",
   "execution_count": null,
   "id": "4b398ae6",
   "metadata": {},
   "outputs": [],
   "source": []
  }
 ],
 "metadata": {
  "kernelspec": {
   "display_name": "Python 3 (ipykernel)",
   "language": "python",
   "name": "python3"
  },
  "language_info": {
   "codemirror_mode": {
    "name": "ipython",
    "version": 3
   },
   "file_extension": ".py",
   "mimetype": "text/x-python",
   "name": "python",
   "nbconvert_exporter": "python",
   "pygments_lexer": "ipython3",
   "version": "3.11.5"
  }
 },
 "nbformat": 4,
 "nbformat_minor": 5
}
