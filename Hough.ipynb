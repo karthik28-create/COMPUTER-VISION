{
 "cells": [
  {
   "cell_type": "code",
   "execution_count": 1,
   "id": "3e88e78d-9120-4863-8e35-8153adeffc3a",
   "metadata": {},
   "outputs": [],
   "source": [
    "import numpy as np\n",
    "import matplotlib.pyplot  as plt\n",
    "import cv2"
   ]
  },
  {
   "cell_type": "code",
   "execution_count": 2,
   "id": "82b01bc3-efca-4123-9836-4c448fecc3ea",
   "metadata": {},
   "outputs": [],
   "source": [
    "# import cv2\n",
    "# import numpy as np\n",
    "\n",
    "# # Load the image in color and convert to grayscale\n",
    "# imgC = cv2.imread('sudoku.jpg')\n",
    "# img = cv2.cvtColor(imgC, cv2.COLOR_BGR2GRAY)\n",
    "\n",
    "# # Apply Canny edge detection\n",
    "# edges = cv2.Canny(img, 80, 150, apertureSize=3)\n",
    "\n",
    "# # Detect lines using Hough Transform\n",
    "# lines = cv2.HoughLines(edges, 1, np.pi / 180, 200)\n",
    "\n",
    "# # Draw lines on the original colored image\n",
    "# if lines is not None:\n",
    "#     for line in lines:\n",
    "#         rho, theta = line[0]\n",
    "#         a = np.cos(theta)\n",
    "#         b = np.sin(theta)\n",
    "#         x0 = a * rho\n",
    "#         y0 = b * rho\n",
    "\n",
    "#         x1 = int(x0 + 1000 * (-b))  \n",
    "#         y1 = int(y0 + 1000 * (a))    \n",
    "#         x2 = int(x0 - 1000 * (-b))\n",
    "#         y2 = int(y0 - 1000 * (a))\n",
    "        \n",
    "#         cv2.line(imgC, (x1, y1), (x2, y2), (0, 0, 255), 1)\n",
    "\n",
    "# # Display the result\n",
    "# cv2.imshow(\"Edges\", edges)\n",
    "# cv2.imshow(\"Hough Lines\", imgC)\n",
    "# cv2.waitKey(0)\n",
    "# cv2.destroyAllWindows()\n"
   ]
  },
  {
   "cell_type": "code",
   "execution_count": 1,
   "id": "6d431b63-80fb-41a1-b23b-f3787c772df0",
   "metadata": {},
   "outputs": [],
   "source": [
    "import numpy as np\n",
    "import cv2\n",
    "import matplotlib.pyplot as plt"
   ]
  },
  {
   "cell_type": "code",
   "execution_count": 2,
   "id": "849aefd5-47f6-4374-a25d-a6846481c9df",
   "metadata": {},
   "outputs": [],
   "source": [
    "img=cv2.imread('sudoku.jpg')\n",
    "img=cv2.cvtColor(img, cv2.COLOR_BGR2GRAY)"
   ]
  },
  {
   "cell_type": "code",
   "execution_count": 3,
   "id": "0cb92fa5",
   "metadata": {},
   "outputs": [],
   "source": [
    "edges=cv2.Canny(img,80,150,apertureSize=3)\n",
    "lines=cv2.HoughLines(edges,1,np.pi/180,200)"
   ]
  },
  {
   "cell_type": "code",
   "execution_count": 4,
   "id": "92358519",
   "metadata": {},
   "outputs": [],
   "source": [
    "if lines is not None:\n",
    "    for line in lines:\n",
    "        rho,theta=line[0]\n",
    "        a = np.cos(theta)\n",
    "        b = np.sin(theta)\n",
    "        x0 = a * rho\n",
    "        y0 = b * rho\n",
    "    \n",
    "        x1 = int(x0 + 1000 * (-b))\n",
    "        y1 = int(y0 + 1000 * (a))\n",
    "        x2 = int(x0 + 1000 * (-b))\n",
    "        y2 = int(y0 + 1000 * (a))\n",
    "    \n",
    "        cv2.line(img, (x1,y1), (x2,y2), (0 ,0, 255), 1)\n",
    "    \n",
    "cv2.imshow('egdes',edges)\n",
    "cv2.imshow('houghlines',img)\n",
    "cv2.waitKey(0)\n",
    "cv2.destroyAllWindows()"
   ]
  },
  {
   "cell_type": "raw",
   "id": "4434ed1a",
   "metadata": {},
   "source": []
  },
  {
   "cell_type": "code",
   "execution_count": null,
   "id": "201f6b14-e154-412d-bb9b-db7b6cbf519f",
   "metadata": {},
   "outputs": [],
   "source": []
  },
  {
   "cell_type": "code",
   "execution_count": null,
   "id": "e28e708a-2dd8-42bc-8e95-35306f59b19b",
   "metadata": {},
   "outputs": [],
   "source": []
  },
  {
   "cell_type": "code",
   "execution_count": null,
   "id": "6a7e098a-dfbc-4cad-bfc0-fd6dbbf8ac84",
   "metadata": {},
   "outputs": [],
   "source": []
  }
 ],
 "metadata": {
  "kernelspec": {
   "display_name": "Python 3 (ipykernel)",
   "language": "python",
   "name": "python3"
  },
  "language_info": {
   "codemirror_mode": {
    "name": "ipython",
    "version": 3
   },
   "file_extension": ".py",
   "mimetype": "text/x-python",
   "name": "python",
   "nbconvert_exporter": "python",
   "pygments_lexer": "ipython3",
   "version": "3.11.5"
  }
 },
 "nbformat": 4,
 "nbformat_minor": 5
}
