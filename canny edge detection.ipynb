{
 "cells": [
  {
   "cell_type": "code",
   "execution_count": 13,
   "id": "6c3f0d98",
   "metadata": {},
   "outputs": [],
   "source": []
  },
  {
   "cell_type": "code",
   "execution_count": 1,
   "id": "01bbb490",
   "metadata": {},
   "outputs": [],
   "source": [
    "import cv2\n",
    "import matplotlib.pyplot as plt\n",
    "import numpy as np"
   ]
  },
  {
   "cell_type": "code",
   "execution_count": 2,
   "id": "bcadf630",
   "metadata": {},
   "outputs": [],
   "source": [
    "img=cv2.imread('tulips.jpg')\n",
    "image=cv2.cvtColor(img, cv2.COLOR_BGR2GRAY)"
   ]
  },
  {
   "cell_type": "code",
   "execution_count": 3,
   "id": "149e953b",
   "metadata": {},
   "outputs": [],
   "source": [
    "if img is None:\n",
    "    print('img not found')\n",
    "else:\n",
    "        gradients_sobelx=cv2.Sobel(image, cv2.CV_64F, 1, 0)\n",
    "        gradients_sobely=cv2.Sobel(image, cv2.CV_64F, 0, 1)\n",
    "        gradients_sobelxy=cv2.addWeighted(gradients_sobelx, 0.5, gradients_sobely,0.5,0)\n",
    "        gradients_laplacian=cv2.Laplacian(image,cv2.CV_64F)\n",
    "        canny_output=cv2.Canny(image,80,150)\n",
    "        "
   ]
  },
  {
   "cell_type": "code",
   "execution_count": 4,
   "id": "35f47dc9",
   "metadata": {},
   "outputs": [],
   "source": [
    "gradients_sobel_x=cv2.convertScaleAbs(gradients_sobelx)\n",
    "gradients_sobel_y=cv2.convertScaleAbs(gradients_sobely)\n",
    "gradients_sobel_xy=cv2.convertScaleAbs(gradients_sobelxy)\n",
    "gradients_laplacian=cv2.convertScaleAbs(gradients_laplacian)\n"
   ]
  },
  {
   "cell_type": "code",
   "execution_count": 5,
   "id": "b42be8d6",
   "metadata": {},
   "outputs": [],
   "source": [
    "cv2.imshow('Sobel x',gradients_sobel_x)\n",
    "cv2.imshow('Sobel y',gradients_sobel_y)\n",
    "cv2.imshow('Sobel x+y',gradients_sobel_xy)\n",
    "cv2.imshow('Laplacian',gradients_laplacian)\n",
    "cv2.imshow('Canny',canny_output)\n",
    "\n",
    "cv2.waitKey(0)\n",
    "cv2.destroyAllWindows()"
   ]
  },
  {
   "cell_type": "code",
   "execution_count": null,
   "id": "560fccfc",
   "metadata": {},
   "outputs": [],
   "source": []
  },
  {
   "cell_type": "code",
   "execution_count": null,
   "id": "8fb43bc2",
   "metadata": {},
   "outputs": [],
   "source": []
  },
  {
   "cell_type": "code",
   "execution_count": null,
   "id": "8b4b6e8c",
   "metadata": {},
   "outputs": [],
   "source": []
  }
 ],
 "metadata": {
  "kernelspec": {
   "display_name": "Python (mynewenv)",
   "language": "python",
   "name": "myenv"
  },
  "language_info": {
   "codemirror_mode": {
    "name": "ipython",
    "version": 3
   },
   "file_extension": ".py",
   "mimetype": "text/x-python",
   "name": "python",
   "nbconvert_exporter": "python",
   "pygments_lexer": "ipython3",
   "version": "3.12.2"
  }
 },
 "nbformat": 4,
 "nbformat_minor": 5
}
